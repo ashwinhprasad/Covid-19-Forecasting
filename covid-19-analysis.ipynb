{
 "cells": [
  {
   "cell_type": "markdown",
   "metadata": {},
   "source": [
    "# Covid - 19 Forecasting\n",
    "\n",
    "![Covid - 19](https://eyewire.news/wp-content/uploads/sites/2/2020/03/banner.png)\n",
    "\n",
    "This notebook contains the Implementation of a standard LSTM to forecast the covid - 19 (Confirmed Cases) using the time series data\n",
    "\n",
    "## Steps Involved\n",
    "- Libraries\n",
    "- Dataset Pre-Processing\n",
    "- Neural Netowork Architecture Design\n",
    "- Training the Model\n",
    "- Forecasting\n",
    "- Conclusion\n",
    "- Drawbacks"
   ]
  },
  {
   "cell_type": "markdown",
   "metadata": {},
   "source": [
    "## Libraries\n",
    "\n",
    "Importing all the required modules"
   ]
  },
  {
   "cell_type": "code",
   "execution_count": 1,
   "metadata": {
    "executionInfo": {
     "elapsed": 1148,
     "status": "ok",
     "timestamp": 1607991435268,
     "user": {
      "displayName": "Ashwin Prasad",
      "photoUrl": "https://lh3.googleusercontent.com/a-/AOh14GioIL9RVNam3pCtEbMrmpuMTdN5NFt5dkr5syRmXQ=s64",
      "userId": "07979481947621077543"
     },
     "user_tz": -330
    },
    "id": "i_io0Nq_FsIh"
   },
   "outputs": [],
   "source": [
    "#importing the libraries\n",
    "import pandas as pd\n",
    "import torch\n",
    "from torch import nn\n",
    "import numpy as np\n",
    "import matplotlib.pyplot as plt\n",
    "from torch.nn import functional as F"
   ]
  },
  {
   "cell_type": "markdown",
   "metadata": {},
   "source": [
    "## Dataset Pre-Processing\n",
    "\n",
    "Dataset contains a lot of Information. removing unwanted columns , negating the effects of cummulative summation and processing the data so as for the neural network to accept are done in this module"
   ]
  },
  {
   "cell_type": "code",
   "execution_count": 2,
   "metadata": {
    "colab": {
     "base_uri": "https://localhost:8080/",
     "height": 343
    },
    "executionInfo": {
     "elapsed": 1139,
     "status": "ok",
     "timestamp": 1607991435270,
     "user": {
      "displayName": "Ashwin Prasad",
      "photoUrl": "https://lh3.googleusercontent.com/a-/AOh14GioIL9RVNam3pCtEbMrmpuMTdN5NFt5dkr5syRmXQ=s64",
      "userId": "07979481947621077543"
     },
     "user_tz": -330
    },
    "id": "vQLrEUH848Kj",
    "outputId": "375be581-613c-4d1f-d6d4-2ed36419edf7"
   },
   "outputs": [
    {
     "data": {
      "text/html": [
       "<div>\n",
       "<style scoped>\n",
       "    .dataframe tbody tr th:only-of-type {\n",
       "        vertical-align: middle;\n",
       "    }\n",
       "\n",
       "    .dataframe tbody tr th {\n",
       "        vertical-align: top;\n",
       "    }\n",
       "\n",
       "    .dataframe thead th {\n",
       "        text-align: right;\n",
       "    }\n",
       "</style>\n",
       "<table border=\"1\" class=\"dataframe\">\n",
       "  <thead>\n",
       "    <tr style=\"text-align: right;\">\n",
       "      <th></th>\n",
       "      <th>Date</th>\n",
       "      <th>Confirmed</th>\n",
       "      <th>Deaths</th>\n",
       "      <th>Recovered</th>\n",
       "      <th>Active</th>\n",
       "      <th>New cases</th>\n",
       "      <th>New deaths</th>\n",
       "      <th>New recovered</th>\n",
       "      <th>Deaths / 100 Cases</th>\n",
       "      <th>Recovered / 100 Cases</th>\n",
       "      <th>Deaths / 100 Recovered</th>\n",
       "      <th>No. of countries</th>\n",
       "    </tr>\n",
       "  </thead>\n",
       "  <tbody>\n",
       "    <tr>\n",
       "      <th>0</th>\n",
       "      <td>2020-01-22</td>\n",
       "      <td>555</td>\n",
       "      <td>17</td>\n",
       "      <td>28</td>\n",
       "      <td>510</td>\n",
       "      <td>0</td>\n",
       "      <td>0</td>\n",
       "      <td>0</td>\n",
       "      <td>3.06</td>\n",
       "      <td>5.05</td>\n",
       "      <td>60.71</td>\n",
       "      <td>6</td>\n",
       "    </tr>\n",
       "    <tr>\n",
       "      <th>1</th>\n",
       "      <td>2020-01-23</td>\n",
       "      <td>654</td>\n",
       "      <td>18</td>\n",
       "      <td>30</td>\n",
       "      <td>606</td>\n",
       "      <td>99</td>\n",
       "      <td>1</td>\n",
       "      <td>2</td>\n",
       "      <td>2.75</td>\n",
       "      <td>4.59</td>\n",
       "      <td>60.00</td>\n",
       "      <td>8</td>\n",
       "    </tr>\n",
       "    <tr>\n",
       "      <th>2</th>\n",
       "      <td>2020-01-24</td>\n",
       "      <td>941</td>\n",
       "      <td>26</td>\n",
       "      <td>36</td>\n",
       "      <td>879</td>\n",
       "      <td>287</td>\n",
       "      <td>8</td>\n",
       "      <td>6</td>\n",
       "      <td>2.76</td>\n",
       "      <td>3.83</td>\n",
       "      <td>72.22</td>\n",
       "      <td>9</td>\n",
       "    </tr>\n",
       "    <tr>\n",
       "      <th>3</th>\n",
       "      <td>2020-01-25</td>\n",
       "      <td>1434</td>\n",
       "      <td>42</td>\n",
       "      <td>39</td>\n",
       "      <td>1353</td>\n",
       "      <td>493</td>\n",
       "      <td>16</td>\n",
       "      <td>3</td>\n",
       "      <td>2.93</td>\n",
       "      <td>2.72</td>\n",
       "      <td>107.69</td>\n",
       "      <td>11</td>\n",
       "    </tr>\n",
       "    <tr>\n",
       "      <th>4</th>\n",
       "      <td>2020-01-26</td>\n",
       "      <td>2118</td>\n",
       "      <td>56</td>\n",
       "      <td>52</td>\n",
       "      <td>2010</td>\n",
       "      <td>684</td>\n",
       "      <td>14</td>\n",
       "      <td>13</td>\n",
       "      <td>2.64</td>\n",
       "      <td>2.46</td>\n",
       "      <td>107.69</td>\n",
       "      <td>13</td>\n",
       "    </tr>\n",
       "  </tbody>\n",
       "</table>\n",
       "</div>"
      ],
      "text/plain": [
       "         Date  Confirmed  ...  Deaths / 100 Recovered  No. of countries\n",
       "0  2020-01-22        555  ...                   60.71                 6\n",
       "1  2020-01-23        654  ...                   60.00                 8\n",
       "2  2020-01-24        941  ...                   72.22                 9\n",
       "3  2020-01-25       1434  ...                  107.69                11\n",
       "4  2020-01-26       2118  ...                  107.69                13\n",
       "\n",
       "[5 rows x 12 columns]"
      ]
     },
     "execution_count": 2,
     "metadata": {
      "tags": []
     },
     "output_type": "execute_result"
    }
   ],
   "source": [
    "# importing the dataset\n",
    "df = pd.read_csv(\"./day_wise.csv\")\n",
    "df.head()"
   ]
  },
  {
   "cell_type": "code",
   "execution_count": 3,
   "metadata": {
    "colab": {
     "base_uri": "https://localhost:8080/",
     "height": 352
    },
    "executionInfo": {
     "elapsed": 2005,
     "status": "ok",
     "timestamp": 1607991436145,
     "user": {
      "displayName": "Ashwin Prasad",
      "photoUrl": "https://lh3.googleusercontent.com/a-/AOh14GioIL9RVNam3pCtEbMrmpuMTdN5NFt5dkr5syRmXQ=s64",
      "userId": "07979481947621077543"
     },
     "user_tz": -330
    },
    "id": "7xvYPD7D5KUi",
    "outputId": "445b5513-0e08-4a27-be51-176484bb2e5c"
   },
   "outputs": [
    {
     "data": {
      "image/png": "[encoded data removed]",
      "text/plain": [
       "<Figure size 864x288 with 2 Axes>"
      ]
     },
     "metadata": {
      "needs_background": "light",
      "tags": []
     },
     "output_type": "display_data"
    }
   ],
   "source": [
    "# data pre-processing\n",
    "df = df.iloc[:,0:2]\n",
    "df['Date'] = pd.to_datetime(df['Date'],format=\"%Y-%m-%d\")\n",
    "df.set_index(\"Date\",inplace=True)\n",
    "\n",
    "# date pre-processing for neural network\n",
    "confirmed = np.array(df['Confirmed'])\n",
    "\n",
    "# per day\n",
    "for i in range(confirmed.shape[0]-1,0,-1):\n",
    "  confirmed[i] -= confirmed[i-1]\n",
    "\n",
    "\n",
    "# visualize the count per day\n",
    "fig = plt.figure(figsize=(12,4))\n",
    "\n",
    "# total plot\n",
    "ax1 = fig.add_axes([0,0,0.4,1])\n",
    "ax1.plot(df['Confirmed'],label='(Cummulative)')\n",
    "plt.title(\"Total\")\n",
    "\n",
    "# per day plot\n",
    "ax2 = fig.add_axes([0.5,0,0.4,1])\n",
    "ax2.plot(confirmed,label='Cases Per Day')\n",
    "plt.title(\"Cases Per Day\")\n",
    "plt.show()\n",
    "\n",
    "# model data pre-processing\n",
    "X = []\n",
    "Y = []\n",
    "for i in range(confirmed.shape[0] - 10):\n",
    "  lis = []\n",
    "  for j in range(i,i+10):\n",
    "    lis.append(confirmed[j])\n",
    "  X.append(lis)\n",
    "  Y.append(confirmed[i+10])\n",
    "\n",
    "X = np.array(X).reshape(-1,10)\n",
    "Y = np.array(Y).reshape(-1,1)\n",
    "\n",
    "# scaling inputs\n",
    "from sklearn.preprocessing import MinMaxScaler\n",
    "scaler = MinMaxScaler()\n",
    "pred_scaler = MinMaxScaler()\n",
    "X = scaler.fit_transform(X)\n",
    "Y = pred_scaler.fit_transform(Y)\n",
    "\n",
    "# converting to tensors\n",
    "X = torch.tensor(X,dtype=torch.float32).reshape(-1,10,1)\n",
    "Y = torch.tensor(Y,dtype=torch.float32).reshape(-1,1)"
   ]
  },
  {
   "cell_type": "markdown",
   "metadata": {},
   "source": [
    "## Neural Network Architecture Design\n",
    "\n",
    "This module contains the neural network's architecural design *(Type of the network and layers, number of layers and number of units per layere,etc...)*"
   ]
  },
  {
   "cell_type": "code",
   "execution_count": 4,
   "metadata": {
    "executionInfo": {
     "elapsed": 1997,
     "status": "ok",
     "timestamp": 1607991436146,
     "user": {
      "displayName": "Ashwin Prasad",
      "photoUrl": "https://lh3.googleusercontent.com/a-/AOh14GioIL9RVNam3pCtEbMrmpuMTdN5NFt5dkr5syRmXQ=s64",
      "userId": "07979481947621077543"
     },
     "user_tz": -330
    },
    "id": "uVFcW54M8hvs"
   },
   "outputs": [],
   "source": [
    "# Neural Network\n",
    "\n",
    "# Network Config\n",
    "input_size = 1\n",
    "hidden_size=20\n",
    "num_layers=1\n",
    "\n",
    "# Neural Network\n",
    "class net(nn.Module):\n",
    "  def __init__(self):\n",
    "    super(net,self).__init__()\n",
    "    self.l1 = nn.LSTM(input_size=input_size,hidden_size=hidden_size,num_layers=num_layers,batch_first=True)\n",
    "    self.l2 = nn.Linear(in_features=hidden_size,out_features=10)\n",
    "    self.l3 = nn.Linear(in_features=10,out_features=1)\n",
    "\n",
    "  def forward(self,x):\n",
    "    x,_ = self.l1(x)\n",
    "    x = self.l2(torch.relu(x[:,-1]))\n",
    "    x = self.l3(torch.relu(x))\n",
    "    return x\n",
    "\n",
    "# Model Object\n",
    "model = net()\n",
    "\n",
    "# Model Config\n",
    "optimizer = torch.optim.SGD(model.parameters(),lr=0.05)\n",
    "epochs = 3000\n",
    "criterion = nn.MSELoss()\n",
    "scheduler = torch.optim.lr_scheduler.ReduceLROnPlateau(optimizer,patience=5,verbose=True)"
   ]
  },
  {
   "cell_type": "markdown",
   "metadata": {},
   "source": [
    "## Training the Model\n",
    "\n",
    "The randomly initialized weights of the neural network model is trained via gradient descent so as to reduce loss"
   ]
  },
  {
   "cell_type": "code",
   "execution_count": 5,
   "metadata": {
    "colab": {
     "base_uri": "https://localhost:8080/"
    },
    "executionInfo": {
     "elapsed": 19951,
     "status": "ok",
     "timestamp": 1607991454107,
     "user": {
      "displayName": "Ashwin Prasad",
      "photoUrl": "https://lh3.googleusercontent.com/a-/AOh14GioIL9RVNam3pCtEbMrmpuMTdN5NFt5dkr5syRmXQ=s64",
      "userId": "07979481947621077543"
     },
     "user_tz": -330
    },
    "id": "JOkV4R50EhRg",
    "outputId": "3549f7d7-d47c-4dc9-ebe1-de86d397f642"
   },
   "outputs": [
    {
     "name": "stdout",
     "output_type": "stream",
     "text": [
      "tensor(0.3347, grad_fn=<MseLossBackward>)\n",
      "tensor(0.0524, grad_fn=<MseLossBackward>)\n",
      "tensor(0.0042, grad_fn=<MseLossBackward>)\n",
      "tensor(0.0026, grad_fn=<MseLossBackward>)\n",
      "tensor(0.0025, grad_fn=<MseLossBackward>)\n",
      "tensor(0.0025, grad_fn=<MseLossBackward>)\n",
      "tensor(0.0024, grad_fn=<MseLossBackward>)\n",
      "tensor(0.0024, grad_fn=<MseLossBackward>)\n",
      "tensor(0.0023, grad_fn=<MseLossBackward>)\n",
      "tensor(0.0023, grad_fn=<MseLossBackward>)\n"
     ]
    }
   ],
   "source": [
    "# Forward Pass\n",
    "costs = []\n",
    "for i in range(epochs):\n",
    "  \n",
    "  # Making Predictions\n",
    "  y_pred = model(X)\n",
    "\n",
    "  # Calculating Loss\n",
    "  cost = criterion(y_pred,Y)\n",
    "  costs.append(cost)\n",
    "\n",
    "  # Gradient Descent\n",
    "  optimizer.zero_grad()\n",
    "  cost.backward()\n",
    "  scheduler.step(cost)\n",
    "  optimizer.step() \n",
    "\n",
    "  if i%300 == 0:\n",
    "    print(cost)"
   ]
  },
  {
   "cell_type": "code",
   "execution_count": 6,
   "metadata": {
    "colab": {
     "base_uri": "https://localhost:8080/",
     "height": 352
    },
    "executionInfo": {
     "elapsed": 19946,
     "status": "ok",
     "timestamp": 1607991454108,
     "user": {
      "displayName": "Ashwin Prasad",
      "photoUrl": "https://lh3.googleusercontent.com/a-/AOh14GioIL9RVNam3pCtEbMrmpuMTdN5NFt5dkr5syRmXQ=s64",
      "userId": "07979481947621077543"
     },
     "user_tz": -330
    },
    "id": "WjVOaqrPFETj",
    "outputId": "4f3cb429-7e17-4647-a254-c8be41411c1d"
   },
   "outputs": [
    {
     "data": {
      "image/png": "[encoded data removed]",
      "text/plain": [
       "<Figure size 864x288 with 2 Axes>"
      ]
     },
     "metadata": {
      "needs_background": "light",
      "tags": []
     },
     "output_type": "display_data"
    }
   ],
   "source": [
    "# visualizing the predictions\n",
    "fig = plt.figure(figsize=(12,4))\n",
    "\n",
    "# Loss plot\n",
    "ax1 = fig.add_axes([0,0,0.4,1])\n",
    "ax1.plot(costs,label='loss')\n",
    "plt.title(\"loss\")\n",
    "\n",
    "# Actual vs Predicted Plot\n",
    "ax2 = fig.add_axes([0.5,0,0.4,1])\n",
    "ax2.plot(model(X).detach(),label='Predicted')\n",
    "ax2.plot(Y.detach(),label='Original')\n",
    "plt.legend()\n",
    "plt.title(\"Actual vs Predicted\")\n",
    "plt.show()"
   ]
  },
  {
   "cell_type": "markdown",
   "metadata": {},
   "source": [
    "## Forecasting\n",
    "\n",
    "using the trained model, predictions can be made for the next 50 days with a significant amount of data formatting"
   ]
  },
  {
   "cell_type": "code",
   "execution_count": 7,
   "metadata": {
    "colab": {
     "base_uri": "https://localhost:8080/",
     "height": 282
    },
    "executionInfo": {
     "elapsed": 20391,
     "status": "ok",
     "timestamp": 1607991454562,
     "user": {
      "displayName": "Ashwin Prasad",
      "photoUrl": "https://lh3.googleusercontent.com/a-/AOh14GioIL9RVNam3pCtEbMrmpuMTdN5NFt5dkr5syRmXQ=s64",
      "userId": "07979481947621077543"
     },
     "user_tz": -330
    },
    "id": "6RPobzxKyetb",
    "outputId": "47f02172-ff03-4382-b8c1-a35d1b76751f"
   },
   "outputs": [
    {
     "name": "stdout",
     "output_type": "stream",
     "text": [
      "50th day from now would have   232917.0  cases per that day\n"
     ]
    },
    {
     "data": {
      "image/png": "[encoded data removed]",
      "text/plain": [
       "<Figure size 432x288 with 1 Axes>"
      ]
     },
     "metadata": {
      "needs_background": "light",
      "tags": []
     },
     "output_type": "display_data"
    }
   ],
   "source": [
    "# forecasting\n",
    "\n",
    "# amount of days to predict in the future\n",
    "forward_time = 50\n",
    "\n",
    "# prediction loop\n",
    "for i in range(forward_time):\n",
    "  y_pred = model(X[-1].reshape(-1,10,1))\n",
    "  copy_X = X.numpy().reshape(-1,10)\n",
    "  new_row = copy_X[-1]\n",
    "  new_row = np.roll(new_row,-1)\n",
    "  new_row[-1] = y_pred.item()\n",
    "  copy_X = np.append(copy_X,new_row).reshape(-1,10)\n",
    "  X = torch.tensor(copy_X.reshape(-1,10,1),dtype=torch.float32)\n",
    "\n",
    "# visualize the prediction\n",
    "y_pred = model(X).detach().numpy()\n",
    "plt.plot(np.arange(y_pred.shape[0]-forward_time),Y.detach().numpy().reshape(-1),color='blue',label='Actual')\n",
    "plt.plot(np.arange(y_pred.shape[0]-forward_time,y_pred.shape[0]),y_pred.reshape(-1)[-forward_time:],color='red',linestyle='--',label='Future Predicitons')\n",
    "plt.legend()\n",
    "\n",
    "# predicitions for the last 50 days\n",
    "final_50 = pred_scaler.inverse_transform(y_pred.reshape(-1,1)[-50:])\n",
    "print(\"50th day from now would have  \",final_50[-1][0].round(),\" cases per that day\")"
   ]
  },
  {
   "cell_type": "markdown",
   "metadata": {},
   "source": [
    "## Conclusion\n",
    "\n",
    "- So, Model has predicted that the 50th day will have 232917 new cases.\n",
    "- The further the future we are trying to predict , lesser accurate the prediction becomes\n",
    "- The next few days will not have much variance in terms of number of cases"
   ]
  },
  {
   "cell_type": "markdown",
   "metadata": {},
   "source": [
    "## Disadvantages\n",
    "\n",
    "- Very Less amount of data.( only had about 188 rows, wheras deep learning requires tons and tons of data ). The model couldn't generealize well due to the extremely low amount of data\n",
    "\n",
    "- Due to less data, unable to use validation set for further tuning of the model.\n",
    "- Due to real world entities, the data may be somewhat instable"
   ]
  }
 ],
 "metadata": {
  "colab": {
   "collapsed_sections": [],
   "name": "covid-19-analysis.ipynb",
   "provenance": []
  },
  "kernelspec": {
   "display_name": "Python 3",
   "language": "python",
   "name": "python3"
  },
  "language_info": {
   "codemirror_mode": {
    "name": "ipython",
    "version": 3
   },
   "file_extension": ".py",
   "mimetype": "text/x-python",
   "name": "python",
   "nbconvert_exporter": "python",
   "pygments_lexer": "ipython3",
   "version": "3.8.3"
  }
 },
 "nbformat": 4,
 "nbformat_minor": 4
}
